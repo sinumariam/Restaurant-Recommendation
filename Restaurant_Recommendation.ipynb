{
 "cells": [
  {
   "cell_type": "markdown",
   "id": "4ef26a09-ae52-4c46-a77f-1211b2b683fd",
   "metadata": {},
   "source": [
    "#### Name : SINU S MARIAM\n",
    "#### Designation : Machine Learning Intern  \n",
    "#### Organization : COGNIFYZ TECHNOLOGIES\n",
    "#### Batch Date: 23/06/2024 to 23/09/2024 \n",
    "#### Task 2 - RESTAURANT RECOMMENTATION\n",
    "#### Problem Statement:\n",
    "* Create a restaurant recommendation system based on user preferences.\n",
    "* Test the recommendation system by providing sample user preferences and evaluating the quality of recommendations."
   ]
  },
  {
   "cell_type": "code",
   "execution_count": 1,
   "id": "05da3092-ae06-4806-b82e-b5ceeb0d579e",
   "metadata": {
    "tags": []
   },
   "outputs": [],
   "source": [
    "#importing necessary libraries \n",
    "import numpy as np\n",
    "import pandas as pd\n",
    "import warnings \n",
    "warnings.filterwarnings('ignore')\n",
    "#importing libraries for visualisation\n",
    "import matplotlib.pyplot as plt\n",
    "from matplotlib import style\n",
    "import seaborn as sns"
   ]
  },
  {
   "cell_type": "code",
   "execution_count": 2,
   "id": "95b2f336-a69d-43cc-9dab-235758e572cc",
   "metadata": {
    "tags": []
   },
   "outputs": [],
   "source": [
    "#importing Data\n",
    "data_frame = pd.read_csv('C:/Users/COGNIFYZ/dataset/Dataset .csv')"
   ]
  },
  {
   "cell_type": "markdown",
   "id": "f5f918bc-7d54-4bc4-b3a3-b5d040a0b9a2",
   "metadata": {},
   "source": [
    "#### Descriptive analysis"
   ]
  },
  {
   "cell_type": "code",
   "execution_count": 3,
   "id": "1e97908b-89b4-4a8e-ae47-5e1dbb273ffc",
   "metadata": {
    "tags": []
   },
   "outputs": [
    {
     "data": {
      "text/plain": [
       "(9551, 21)"
      ]
     },
     "execution_count": 3,
     "metadata": {},
     "output_type": "execute_result"
    }
   ],
   "source": [
    "# Understanding the dimensions of train data\n",
    "data_frame.shape"
   ]
  },
  {
   "cell_type": "code",
   "execution_count": 4,
   "id": "87dda88a-a260-4338-8c89-5f2e5efe5183",
   "metadata": {
    "tags": []
   },
   "outputs": [
    {
     "name": "stdout",
     "output_type": "stream",
     "text": [
      "<class 'pandas.core.frame.DataFrame'>\n",
      "RangeIndex: 9551 entries, 0 to 9550\n",
      "Data columns (total 21 columns):\n",
      " #   Column                Non-Null Count  Dtype  \n",
      "---  ------                --------------  -----  \n",
      " 0   Restaurant ID         9551 non-null   int64  \n",
      " 1   Restaurant Name       9551 non-null   object \n",
      " 2   Country Code          9551 non-null   int64  \n",
      " 3   City                  9551 non-null   object \n",
      " 4   Address               9551 non-null   object \n",
      " 5   Locality              9551 non-null   object \n",
      " 6   Locality Verbose      9551 non-null   object \n",
      " 7   Longitude             9551 non-null   float64\n",
      " 8   Latitude              9551 non-null   float64\n",
      " 9   Cuisines              9542 non-null   object \n",
      " 10  Average Cost for two  9551 non-null   int64  \n",
      " 11  Currency              9551 non-null   object \n",
      " 12  Has Table booking     9551 non-null   object \n",
      " 13  Has Online delivery   9551 non-null   object \n",
      " 14  Is delivering now     9551 non-null   object \n",
      " 15  Switch to order menu  9551 non-null   object \n",
      " 16  Price range           9551 non-null   int64  \n",
      " 17  Aggregate rating      9551 non-null   float64\n",
      " 18  Rating color          9551 non-null   object \n",
      " 19  Rating text           9551 non-null   object \n",
      " 20  Votes                 9551 non-null   int64  \n",
      "dtypes: float64(3), int64(5), object(13)\n",
      "memory usage: 1.5+ MB\n"
     ]
    }
   ],
   "source": [
    "# Understanding the Data Variables\n",
    "data_frame.info()"
   ]
  },
  {
   "cell_type": "code",
   "execution_count": 5,
   "id": "f9319135-d80a-4aeb-8ae4-d42a7df599a2",
   "metadata": {
    "tags": []
   },
   "outputs": [
    {
     "data": {
      "text/plain": [
       "Index(['Restaurant ID', 'Restaurant Name', 'Country Code', 'City', 'Address',\n",
       "       'Locality', 'Locality Verbose', 'Longitude', 'Latitude', 'Cuisines',\n",
       "       'Average Cost for two', 'Currency', 'Has Table booking',\n",
       "       'Has Online delivery', 'Is delivering now', 'Switch to order menu',\n",
       "       'Price range', 'Aggregate rating', 'Rating color', 'Rating text',\n",
       "       'Votes'],\n",
       "      dtype='object')"
      ]
     },
     "execution_count": 5,
     "metadata": {},
     "output_type": "execute_result"
    }
   ],
   "source": [
    "#Displaying columns\n",
    "data_frame.columns"
   ]
  },
  {
   "cell_type": "code",
   "execution_count": 6,
   "id": "417c8c10-d42f-4d6a-8724-f8200fe17c68",
   "metadata": {
    "tags": []
   },
   "outputs": [
    {
     "data": {
      "text/html": [
       "<div>\n",
       "<style scoped>\n",
       "    .dataframe tbody tr th:only-of-type {\n",
       "        vertical-align: middle;\n",
       "    }\n",
       "\n",
       "    .dataframe tbody tr th {\n",
       "        vertical-align: top;\n",
       "    }\n",
       "\n",
       "    .dataframe thead th {\n",
       "        text-align: right;\n",
       "    }\n",
       "</style>\n",
       "<table border=\"1\" class=\"dataframe\">\n",
       "  <thead>\n",
       "    <tr style=\"text-align: right;\">\n",
       "      <th></th>\n",
       "      <th>Restaurant ID</th>\n",
       "      <th>Restaurant Name</th>\n",
       "      <th>Country Code</th>\n",
       "      <th>City</th>\n",
       "      <th>Address</th>\n",
       "      <th>Locality</th>\n",
       "      <th>Locality Verbose</th>\n",
       "      <th>Longitude</th>\n",
       "      <th>Latitude</th>\n",
       "      <th>Cuisines</th>\n",
       "      <th>...</th>\n",
       "      <th>Currency</th>\n",
       "      <th>Has Table booking</th>\n",
       "      <th>Has Online delivery</th>\n",
       "      <th>Is delivering now</th>\n",
       "      <th>Switch to order menu</th>\n",
       "      <th>Price range</th>\n",
       "      <th>Aggregate rating</th>\n",
       "      <th>Rating color</th>\n",
       "      <th>Rating text</th>\n",
       "      <th>Votes</th>\n",
       "    </tr>\n",
       "  </thead>\n",
       "  <tbody>\n",
       "    <tr>\n",
       "      <th>0</th>\n",
       "      <td>6317637</td>\n",
       "      <td>Le Petit Souffle</td>\n",
       "      <td>162</td>\n",
       "      <td>Makati City</td>\n",
       "      <td>Third Floor, Century City Mall, Kalayaan Avenu...</td>\n",
       "      <td>Century City Mall, Poblacion, Makati City</td>\n",
       "      <td>Century City Mall, Poblacion, Makati City, Mak...</td>\n",
       "      <td>121.027535</td>\n",
       "      <td>14.565443</td>\n",
       "      <td>French, Japanese, Desserts</td>\n",
       "      <td>...</td>\n",
       "      <td>Botswana Pula(P)</td>\n",
       "      <td>Yes</td>\n",
       "      <td>No</td>\n",
       "      <td>No</td>\n",
       "      <td>No</td>\n",
       "      <td>3</td>\n",
       "      <td>4.8</td>\n",
       "      <td>Dark Green</td>\n",
       "      <td>Excellent</td>\n",
       "      <td>314</td>\n",
       "    </tr>\n",
       "    <tr>\n",
       "      <th>1</th>\n",
       "      <td>6304287</td>\n",
       "      <td>Izakaya Kikufuji</td>\n",
       "      <td>162</td>\n",
       "      <td>Makati City</td>\n",
       "      <td>Little Tokyo, 2277 Chino Roces Avenue, Legaspi...</td>\n",
       "      <td>Little Tokyo, Legaspi Village, Makati City</td>\n",
       "      <td>Little Tokyo, Legaspi Village, Makati City, Ma...</td>\n",
       "      <td>121.014101</td>\n",
       "      <td>14.553708</td>\n",
       "      <td>Japanese</td>\n",
       "      <td>...</td>\n",
       "      <td>Botswana Pula(P)</td>\n",
       "      <td>Yes</td>\n",
       "      <td>No</td>\n",
       "      <td>No</td>\n",
       "      <td>No</td>\n",
       "      <td>3</td>\n",
       "      <td>4.5</td>\n",
       "      <td>Dark Green</td>\n",
       "      <td>Excellent</td>\n",
       "      <td>591</td>\n",
       "    </tr>\n",
       "    <tr>\n",
       "      <th>2</th>\n",
       "      <td>6300002</td>\n",
       "      <td>Heat - Edsa Shangri-La</td>\n",
       "      <td>162</td>\n",
       "      <td>Mandaluyong City</td>\n",
       "      <td>Edsa Shangri-La, 1 Garden Way, Ortigas, Mandal...</td>\n",
       "      <td>Edsa Shangri-La, Ortigas, Mandaluyong City</td>\n",
       "      <td>Edsa Shangri-La, Ortigas, Mandaluyong City, Ma...</td>\n",
       "      <td>121.056831</td>\n",
       "      <td>14.581404</td>\n",
       "      <td>Seafood, Asian, Filipino, Indian</td>\n",
       "      <td>...</td>\n",
       "      <td>Botswana Pula(P)</td>\n",
       "      <td>Yes</td>\n",
       "      <td>No</td>\n",
       "      <td>No</td>\n",
       "      <td>No</td>\n",
       "      <td>4</td>\n",
       "      <td>4.4</td>\n",
       "      <td>Green</td>\n",
       "      <td>Very Good</td>\n",
       "      <td>270</td>\n",
       "    </tr>\n",
       "    <tr>\n",
       "      <th>3</th>\n",
       "      <td>6318506</td>\n",
       "      <td>Ooma</td>\n",
       "      <td>162</td>\n",
       "      <td>Mandaluyong City</td>\n",
       "      <td>Third Floor, Mega Fashion Hall, SM Megamall, O...</td>\n",
       "      <td>SM Megamall, Ortigas, Mandaluyong City</td>\n",
       "      <td>SM Megamall, Ortigas, Mandaluyong City, Mandal...</td>\n",
       "      <td>121.056475</td>\n",
       "      <td>14.585318</td>\n",
       "      <td>Japanese, Sushi</td>\n",
       "      <td>...</td>\n",
       "      <td>Botswana Pula(P)</td>\n",
       "      <td>No</td>\n",
       "      <td>No</td>\n",
       "      <td>No</td>\n",
       "      <td>No</td>\n",
       "      <td>4</td>\n",
       "      <td>4.9</td>\n",
       "      <td>Dark Green</td>\n",
       "      <td>Excellent</td>\n",
       "      <td>365</td>\n",
       "    </tr>\n",
       "    <tr>\n",
       "      <th>4</th>\n",
       "      <td>6314302</td>\n",
       "      <td>Sambo Kojin</td>\n",
       "      <td>162</td>\n",
       "      <td>Mandaluyong City</td>\n",
       "      <td>Third Floor, Mega Atrium, SM Megamall, Ortigas...</td>\n",
       "      <td>SM Megamall, Ortigas, Mandaluyong City</td>\n",
       "      <td>SM Megamall, Ortigas, Mandaluyong City, Mandal...</td>\n",
       "      <td>121.057508</td>\n",
       "      <td>14.584450</td>\n",
       "      <td>Japanese, Korean</td>\n",
       "      <td>...</td>\n",
       "      <td>Botswana Pula(P)</td>\n",
       "      <td>Yes</td>\n",
       "      <td>No</td>\n",
       "      <td>No</td>\n",
       "      <td>No</td>\n",
       "      <td>4</td>\n",
       "      <td>4.8</td>\n",
       "      <td>Dark Green</td>\n",
       "      <td>Excellent</td>\n",
       "      <td>229</td>\n",
       "    </tr>\n",
       "  </tbody>\n",
       "</table>\n",
       "<p>5 rows × 21 columns</p>\n",
       "</div>"
      ],
      "text/plain": [
       "   Restaurant ID         Restaurant Name  Country Code              City  \\\n",
       "0        6317637        Le Petit Souffle           162       Makati City   \n",
       "1        6304287        Izakaya Kikufuji           162       Makati City   \n",
       "2        6300002  Heat - Edsa Shangri-La           162  Mandaluyong City   \n",
       "3        6318506                    Ooma           162  Mandaluyong City   \n",
       "4        6314302             Sambo Kojin           162  Mandaluyong City   \n",
       "\n",
       "                                             Address  \\\n",
       "0  Third Floor, Century City Mall, Kalayaan Avenu...   \n",
       "1  Little Tokyo, 2277 Chino Roces Avenue, Legaspi...   \n",
       "2  Edsa Shangri-La, 1 Garden Way, Ortigas, Mandal...   \n",
       "3  Third Floor, Mega Fashion Hall, SM Megamall, O...   \n",
       "4  Third Floor, Mega Atrium, SM Megamall, Ortigas...   \n",
       "\n",
       "                                     Locality  \\\n",
       "0   Century City Mall, Poblacion, Makati City   \n",
       "1  Little Tokyo, Legaspi Village, Makati City   \n",
       "2  Edsa Shangri-La, Ortigas, Mandaluyong City   \n",
       "3      SM Megamall, Ortigas, Mandaluyong City   \n",
       "4      SM Megamall, Ortigas, Mandaluyong City   \n",
       "\n",
       "                                    Locality Verbose   Longitude   Latitude  \\\n",
       "0  Century City Mall, Poblacion, Makati City, Mak...  121.027535  14.565443   \n",
       "1  Little Tokyo, Legaspi Village, Makati City, Ma...  121.014101  14.553708   \n",
       "2  Edsa Shangri-La, Ortigas, Mandaluyong City, Ma...  121.056831  14.581404   \n",
       "3  SM Megamall, Ortigas, Mandaluyong City, Mandal...  121.056475  14.585318   \n",
       "4  SM Megamall, Ortigas, Mandaluyong City, Mandal...  121.057508  14.584450   \n",
       "\n",
       "                           Cuisines  ...          Currency Has Table booking  \\\n",
       "0        French, Japanese, Desserts  ...  Botswana Pula(P)               Yes   \n",
       "1                          Japanese  ...  Botswana Pula(P)               Yes   \n",
       "2  Seafood, Asian, Filipino, Indian  ...  Botswana Pula(P)               Yes   \n",
       "3                   Japanese, Sushi  ...  Botswana Pula(P)                No   \n",
       "4                  Japanese, Korean  ...  Botswana Pula(P)               Yes   \n",
       "\n",
       "  Has Online delivery Is delivering now Switch to order menu Price range  \\\n",
       "0                  No                No                   No           3   \n",
       "1                  No                No                   No           3   \n",
       "2                  No                No                   No           4   \n",
       "3                  No                No                   No           4   \n",
       "4                  No                No                   No           4   \n",
       "\n",
       "   Aggregate rating  Rating color Rating text Votes  \n",
       "0               4.8    Dark Green   Excellent   314  \n",
       "1               4.5    Dark Green   Excellent   591  \n",
       "2               4.4         Green   Very Good   270  \n",
       "3               4.9    Dark Green   Excellent   365  \n",
       "4               4.8    Dark Green   Excellent   229  \n",
       "\n",
       "[5 rows x 21 columns]"
      ]
     },
     "execution_count": 6,
     "metadata": {},
     "output_type": "execute_result"
    }
   ],
   "source": [
    "# Show the top 10 Rows of data\n",
    "data_frame.head(5)"
   ]
  },
  {
   "cell_type": "code",
   "execution_count": 7,
   "id": "6b026161-9296-45bc-8f26-3c35d0af7b6f",
   "metadata": {
    "tags": []
   },
   "outputs": [
    {
     "data": {
      "text/plain": [
       "0"
      ]
     },
     "execution_count": 7,
     "metadata": {},
     "output_type": "execute_result"
    }
   ],
   "source": [
    "# Checking for any Duplicated Entries\n",
    "data_frame.duplicated().sum()"
   ]
  },
  {
   "cell_type": "code",
   "execution_count": 8,
   "id": "8eeb3cc3-6232-4c73-b3ca-e8fc5d482062",
   "metadata": {
    "tags": []
   },
   "outputs": [
    {
     "data": {
      "text/plain": [
       "Restaurant ID           0\n",
       "Restaurant Name         0\n",
       "Country Code            0\n",
       "City                    0\n",
       "Address                 0\n",
       "Locality                0\n",
       "Locality Verbose        0\n",
       "Longitude               0\n",
       "Latitude                0\n",
       "Cuisines                9\n",
       "Average Cost for two    0\n",
       "Currency                0\n",
       "Has Table booking       0\n",
       "Has Online delivery     0\n",
       "Is delivering now       0\n",
       "Switch to order menu    0\n",
       "Price range             0\n",
       "Aggregate rating        0\n",
       "Rating color            0\n",
       "Rating text             0\n",
       "Votes                   0\n",
       "dtype: int64"
      ]
     },
     "execution_count": 8,
     "metadata": {},
     "output_type": "execute_result"
    }
   ],
   "source": [
    "#Detecting missing values\n",
    "data_frame.isna().sum()"
   ]
  },
  {
   "cell_type": "code",
   "execution_count": 9,
   "id": "78bc52e6-d4ed-4c05-a4da-8c57ae444fde",
   "metadata": {},
   "outputs": [],
   "source": [
    "# Drop null values\n",
    "data_frame = data_frame.dropna()"
   ]
  },
  {
   "cell_type": "code",
   "execution_count": 10,
   "id": "9a5f2504-11e3-453d-b6a8-d271edb3ff63",
   "metadata": {
    "tags": []
   },
   "outputs": [
    {
     "data": {
      "text/plain": [
       "Index(['Restaurant Name', 'City', 'Address', 'Locality', 'Locality Verbose',\n",
       "       'Cuisines', 'Currency', 'Has Table booking', 'Has Online delivery',\n",
       "       'Is delivering now', 'Switch to order menu', 'Rating color',\n",
       "       'Rating text'],\n",
       "      dtype='object')"
      ]
     },
     "execution_count": 10,
     "metadata": {},
     "output_type": "execute_result"
    }
   ],
   "source": [
    "# Identifing Categorical(Non-Numerical) Columns in Dataset\n",
    "data_frame_cat=data_frame.select_dtypes(exclude=['float64','int64'])\n",
    "data_frame_cat.columns"
   ]
  },
  {
   "cell_type": "code",
   "execution_count": 11,
   "id": "2cb13a0c-1ae7-47bf-a52d-4917da72c1ed",
   "metadata": {
    "tags": []
   },
   "outputs": [
    {
     "data": {
      "text/plain": [
       "Index(['Restaurant ID', 'Country Code', 'Longitude', 'Latitude',\n",
       "       'Average Cost for two', 'Price range', 'Aggregate rating', 'Votes'],\n",
       "      dtype='object')"
      ]
     },
     "execution_count": 11,
     "metadata": {},
     "output_type": "execute_result"
    }
   ],
   "source": [
    "# Identifing Numerical Columns in Dataset\n",
    "data_frame_num=data_frame.select_dtypes(include=['float64','int64'])\n",
    "data_frame_num.columns"
   ]
  },
  {
   "cell_type": "code",
   "execution_count": 12,
   "id": "5b299f43-b760-4be2-8f59-7296b098ee18",
   "metadata": {
    "tags": []
   },
   "outputs": [
    {
     "name": "stdout",
     "output_type": "stream",
     "text": [
      "Name of the variable : Restaurant Name\n",
      "Cafe Coffee Day             83\n",
      "Domino's Pizza              79\n",
      "Subway                      63\n",
      "Green Chick Chop            51\n",
      "McDonald's                  48\n",
      "                            ..\n",
      "The Town House Cafe          1\n",
      "The G.T. Road                1\n",
      "The Darzi Bar & Kitchen      1\n",
      "Smoke On Water               1\n",
      "Walter's Coffee Roastery     1\n",
      "Name: Restaurant Name, Length: 7437, dtype: int64 \n",
      "\n",
      "\n",
      "Name of the variable : City\n",
      "New Delhi         5473\n",
      "Gurgaon           1118\n",
      "Noida             1080\n",
      "Faridabad          251\n",
      "Ghaziabad           25\n",
      "                  ... \n",
      "Lincoln              1\n",
      "Lakeview             1\n",
      "Lakes Entrance       1\n",
      "Inverloch            1\n",
      "Panchkula            1\n",
      "Name: City, Length: 140, dtype: int64 \n",
      "\n",
      "\n",
      "Name of the variable : Address\n",
      "Dilli Haat, INA, New Delhi                                                   11\n",
      "Sector 41, Noida                                                             11\n",
      "Greater Kailash (GK) 1, New Delhi                                            10\n",
      "The Imperial, Janpath, New Delhi                                              9\n",
      "Cyber Hub, DLF Cyber City, Gurgaon                                            8\n",
      "                                                                             ..\n",
      "108 & 126, Flyover Market, Defence Colony, New Delhi                          1\n",
      "Shop 25,27 & 29, Defence Colony Flyover Market, Defence Colony, New Delhi     1\n",
      "D  Block, Defence Colony, New Delhi                                           1\n",
      "A-1, Defence Colony, New Delhi                                                1\n",
      "Cafea��a Mahallesi, Bademalt۱ Sokak, No 21/B, Kad۱k�_y, ��stanbul             1\n",
      "Name: Address, Length: 8910, dtype: int64 \n",
      "\n",
      "\n",
      "Name of the variable : Locality\n",
      "Connaught Place                                122\n",
      "Rajouri Garden                                  99\n",
      "Shahdara                                        87\n",
      "Defence Colony                                  86\n",
      "Pitampura                                       85\n",
      "                                              ... \n",
      "Omaxe Celebration Mall, Sohna Road, Gurgaon      1\n",
      "Park Inn, Sector 15, Gurgaon                     1\n",
      "Plaza Mall, MG Road                              1\n",
      "Ramada Gurgaon Central, Sector 44                1\n",
      "Moda                                             1\n",
      "Name: Locality, Length: 1206, dtype: int64 \n",
      "\n",
      "\n",
      "Name of the variable : Locality Verbose\n",
      "Connaught Place, New Delhi                    122\n",
      "Rajouri Garden, New Delhi                      99\n",
      "Shahdara, New Delhi                            87\n",
      "Defence Colony, New Delhi                      86\n",
      "Pitampura, New Delhi                           85\n",
      "                                             ... \n",
      "Ramada Gurgaon Central, Sector 44, Gurgaon      1\n",
      "Sector 5, Gurgaon                               1\n",
      "Sector 53, Gurgaon                              1\n",
      "The Claremont, MG Road, Gurgaon                 1\n",
      "Moda, ��stanbul                                 1\n",
      "Name: Locality Verbose, Length: 1263, dtype: int64 \n",
      "\n",
      "\n",
      "Name of the variable : Cuisines\n",
      "North Indian                                             936\n",
      "North Indian, Chinese                                    511\n",
      "Chinese                                                  354\n",
      "Fast Food                                                354\n",
      "North Indian, Mughlai                                    334\n",
      "                                                        ... \n",
      "Bengali, Fast Food                                         1\n",
      "North Indian, Rajasthani, Asian                            1\n",
      "Chinese, Thai, Malaysian, Indonesian                       1\n",
      "Bakery, Desserts, North Indian, Bengali, South Indian      1\n",
      "Italian, World Cuisine                                     1\n",
      "Name: Cuisines, Length: 1825, dtype: int64 \n",
      "\n",
      "\n",
      "Name of the variable : Currency\n",
      "Indian Rupees(Rs.)        8652\n",
      "Dollar($)                  473\n",
      "Pounds(��)                  80\n",
      "Brazilian Real(R$)          60\n",
      "Emirati Diram(AED)          60\n",
      "Rand(R)                     60\n",
      "NewZealand($)               40\n",
      "Turkish Lira(TL)            34\n",
      "Botswana Pula(P)            22\n",
      "Indonesian Rupiah(IDR)      21\n",
      "Qatari Rial(QR)             20\n",
      "Sri Lankan Rupee(LKR)       20\n",
      "Name: Currency, dtype: int64 \n",
      "\n",
      "\n",
      "Name of the variable : Has Table booking\n",
      "No     8384\n",
      "Yes    1158\n",
      "Name: Has Table booking, dtype: int64 \n",
      "\n",
      "\n",
      "Name of the variable : Has Online delivery\n",
      "No     7091\n",
      "Yes    2451\n",
      "Name: Has Online delivery, dtype: int64 \n",
      "\n",
      "\n",
      "Name of the variable : Is delivering now\n",
      "No     9508\n",
      "Yes      34\n",
      "Name: Is delivering now, dtype: int64 \n",
      "\n",
      "\n",
      "Name of the variable : Switch to order menu\n",
      "No    9542\n",
      "Name: Switch to order menu, dtype: int64 \n",
      "\n",
      "\n",
      "Name of the variable : Rating color\n",
      "Orange        3734\n",
      "White         2148\n",
      "Yellow        2096\n",
      "Green         1078\n",
      "Dark Green     300\n",
      "Red            186\n",
      "Name: Rating color, dtype: int64 \n",
      "\n",
      "\n",
      "Name of the variable : Rating text\n",
      "Average      3734\n",
      "Not rated    2148\n",
      "Good         2096\n",
      "Very Good    1078\n",
      "Excellent     300\n",
      "Poor          186\n",
      "Name: Rating text, dtype: int64 \n",
      "\n",
      "\n"
     ]
    }
   ],
   "source": [
    "# Find Unique values in each Categorical column and their count\n",
    "cat_cols=['Restaurant Name', 'City', 'Address', 'Locality', 'Locality Verbose',\n",
    "       'Cuisines', 'Currency', 'Has Table booking', 'Has Online delivery',\n",
    "       'Is delivering now', 'Switch to order menu', 'Rating color',\n",
    "       'Rating text']\n",
    "def num_count():\n",
    "    for col in cat_cols:\n",
    "        print('Name of the variable :', col)\n",
    "        print(data_frame[col].value_counts(), '\\n\\n')\n",
    "num_count()"
   ]
  },
  {
   "cell_type": "markdown",
   "id": "094a3b17-308f-4d6c-b2fa-78330277e09a",
   "metadata": {},
   "source": [
    "\n",
    "* Here Recommendation system is developed using Content-Based Filtering System.\n",
    "* Dataset does not contain user information,So Restaurant recommendation system is based on features of restaurants themselves.\n",
    "* We are trying to Recommend restaurants that have similar 'Cuisine Types' with highest ratings in a preferred City.\n",
    "* All columns except -'Cuisines', 'City','Aggregate rating', 'Rating text' can be dropped from further analysis.      \n",
    "\n"
   ]
  },
  {
   "cell_type": "code",
   "execution_count": 13,
   "id": "7dee9903-be35-4bcc-9bd1-4e2e38a41bed",
   "metadata": {},
   "outputs": [],
   "source": [
    "#Dropping unwanted Columns from data\n",
    "data_frame.drop(columns=['Restaurant ID', 'Country Code', 'Address',\n",
    "       'Locality', 'Locality Verbose', 'Longitude', 'Latitude',\n",
    "       'Average Cost for two', 'Currency', 'Has Table booking',\n",
    "       'Has Online delivery', 'Is delivering now', 'Switch to order menu',\n",
    "       'Price range','Rating color','Votes'], inplace=True )"
   ]
  },
  {
   "cell_type": "code",
   "execution_count": 14,
   "id": "1f0cb0b9-c413-4f66-9269-0debd888d198",
   "metadata": {
    "tags": []
   },
   "outputs": [
    {
     "name": "stdout",
     "output_type": "stream",
     "text": [
      "<class 'pandas.core.frame.DataFrame'>\n",
      "Int64Index: 9542 entries, 0 to 9550\n",
      "Data columns (total 5 columns):\n",
      " #   Column            Non-Null Count  Dtype  \n",
      "---  ------            --------------  -----  \n",
      " 0   Restaurant Name   9542 non-null   object \n",
      " 1   City              9542 non-null   object \n",
      " 2   Cuisines          9542 non-null   object \n",
      " 3   Aggregate rating  9542 non-null   float64\n",
      " 4   Rating text       9542 non-null   object \n",
      "dtypes: float64(1), object(4)\n",
      "memory usage: 447.3+ KB\n"
     ]
    }
   ],
   "source": [
    "data_frame.info()"
   ]
  },
  {
   "cell_type": "code",
   "execution_count": 15,
   "id": "c408384b-ab8a-4b25-ab01-f8d9a14d8b73",
   "metadata": {},
   "outputs": [
    {
     "data": {
      "text/plain": [
       "North Indian                                             936\n",
       "North Indian, Chinese                                    511\n",
       "Chinese                                                  354\n",
       "Fast Food                                                354\n",
       "North Indian, Mughlai                                    334\n",
       "                                                        ... \n",
       "Bengali, Fast Food                                         1\n",
       "North Indian, Rajasthani, Asian                            1\n",
       "Chinese, Thai, Malaysian, Indonesian                       1\n",
       "Bakery, Desserts, North Indian, Bengali, South Indian      1\n",
       "Italian, World Cuisine                                     1\n",
       "Name: Cuisines, Length: 1825, dtype: int64"
      ]
     },
     "execution_count": 15,
     "metadata": {},
     "output_type": "execute_result"
    }
   ],
   "source": [
    "data_frame['Cuisines'].value_counts()"
   ]
  },
  {
   "cell_type": "markdown",
   "id": "73212a42-c897-4ffb-b611-18e3d88041eb",
   "metadata": {},
   "source": [
    "#### Text Cleaning"
   ]
  },
  {
   "cell_type": "code",
   "execution_count": 16,
   "id": "ce8f965b-fb6d-4b0c-9e9f-ac7171da53cb",
   "metadata": {},
   "outputs": [],
   "source": [
    "# Define function for cleaning data\n",
    "import re # For replacing any text if required\n",
    "\n",
    "def Pre_process_text(act_string):\n",
    "    # remove all values other than alphabets\n",
    "    new_string= re.sub(r'[^a-zA-Z0-9]',\" \", act_string)\n",
    "    # Lowercasing\n",
    "    new_string = act_string.lower()\n",
    "    return new_string"
   ]
  },
  {
   "cell_type": "markdown",
   "id": "eff1acf5-31cf-4634-a281-583c3cbfa0c8",
   "metadata": {},
   "source": [
    "#### Content-Based Filtering System\n",
    "* Recommend restaurants that have similar 'Cuisine Types' with good ratings in a preferred City.\n"
   ]
  },
  {
   "cell_type": "code",
   "execution_count": 17,
   "id": "fc5081a2-199a-4d26-b78e-dbdb25ed7bd7",
   "metadata": {
    "tags": []
   },
   "outputs": [],
   "source": [
    "#### Apply TF-ID (Term Frequency-Inverse Document Frequency)\n",
    "from sklearn.feature_extraction.text import TfidfVectorizer\n",
    "\n",
    "# # Convert the cuisines,Rating text,City into format that can be used for TF-ID extraction\n",
    "data_frame['Cuisines_Rating_City'] = data_frame['Cuisines']+ \" \" + data_frame['Rating text']+ \" \" + data_frame['City'].astype(str)\n",
    "data_frame['Cuisines_Rating_City'] =data_frame['Cuisines_Rating_City'] .apply(str)\n",
    "#Text Cleaning\n",
    "data_frame['Cuisines_Rating_City'] = data_frame['Cuisines_Rating_City'].apply(Pre_process_text)\n",
    "\n",
    "#Extract features from  text data using TF-IDF.\n",
    "X_tfidf = TfidfVectorizer(stop_words='english')\n",
    "tfidf_matrix= X_tfidf.fit_transform(data_frame['Cuisines_Rating_City'])"
   ]
  },
  {
   "cell_type": "code",
   "execution_count": 18,
   "id": "4472be97-f587-4a9d-9405-58a17a8389bc",
   "metadata": {},
   "outputs": [],
   "source": [
    "# Incorporate Aggregate Rating to feature set\n",
    "#Min-Max Scaling\n",
    "from sklearn.preprocessing import MinMaxScaler\n",
    "min_max = MinMaxScaler()\n",
    "min_max_rating = min_max.fit_transform(data_frame[['Aggregate rating']])\n",
    "# Combine TF-IDF features with MIn Max Scaled 'Aggregate rating'\n",
    "features = np.hstack((tfidf_matrix.toarray(), min_max_rating))"
   ]
  },
  {
   "cell_type": "markdown",
   "id": "721f816a-920a-469c-9379-f0bf0e16f676",
   "metadata": {},
   "source": [
    "#### Similarity Calculation using Cosine Similarity\n",
    "* To compute similarity between restaurants based on features 'Cosine Similarity metrics' is used here"
   ]
  },
  {
   "cell_type": "code",
   "execution_count": 19,
   "id": "9f442bf9-b5b0-480a-bd9a-4a3794b07b17",
   "metadata": {
    "tags": []
   },
   "outputs": [
    {
     "name": "stdout",
     "output_type": "stream",
     "text": [
      "[[1.         0.92375176 0.54670537 ... 0.42168919 0.44252432 0.44252432]\n",
      " [0.92375176 1.         0.54726823 ... 0.40760346 0.42774262 0.42774262]\n",
      " [0.54670537 0.54726823 1.         ... 0.41460668 0.4366489  0.44252103]\n",
      " ...\n",
      " [0.42168919 0.40760346 0.41460668 ... 1.         0.5899944  0.67674371]\n",
      " [0.44252432 0.42774262 0.4366489  ... 0.5899944  1.         0.82393237]\n",
      " [0.44252432 0.42774262 0.44252103 ... 0.67674371 0.82393237 1.        ]]\n"
     ]
    }
   ],
   "source": [
    "from sklearn.metrics.pairwise import cosine_similarity\n",
    "\n",
    "# Compute cosine similarity matrix\n",
    "cos_dis= cosine_similarity(features,features)\n",
    "print(cos_dis)"
   ]
  },
  {
   "cell_type": "code",
   "execution_count": 20,
   "id": "ef7cbd2d-4c8b-4b64-9dcb-7c130087de35",
   "metadata": {},
   "outputs": [],
   "source": [
    "# Function to get recommendations\n",
    "def get_recommendations(restaurant_name, cos_dis, data_frame, n=4):\n",
    "    # Get index of input restaurant\n",
    "    id = data_frame[data_frame['Restaurant Name'] == restaurant_name].index[0]\n",
    "    # Cosine similarity scores for input restaurant\n",
    "    cos_dis_Restaurant = list(enumerate(cos_dis[id]))\n",
    "    # Arrange in descending order\n",
    "    cos_dis_Restaurant  = sorted(cos_dis_Restaurant , key=lambda x: x[1], reverse=True)\n",
    "    # Top n indices of restaurants\n",
    "    top_id = [i[0] for i in cos_dis_Restaurant [1:n+1]]\n",
    "    # Return Recommendations\n",
    "    return data_frame[['Restaurant Name','Cuisines','City','Aggregate rating']].iloc[top_id]"
   ]
  },
  {
   "cell_type": "code",
   "execution_count": 21,
   "id": "f51a9778-d6ee-4c44-a576-cbba450736f1",
   "metadata": {},
   "outputs": [
    {
     "name": "stdout",
     "output_type": "stream",
     "text": [
      "                      Restaurant Name       Cuisines   City  Aggregate rating\n",
      "598  Grand Barbeque Buffet Restaurant  Indian, Asian  Dubai               4.4\n",
      "586                        Rasoi Ghar         Indian  Dubai               4.3\n",
      "590               Carnival By Tresind         Indian  Dubai               4.9\n",
      "597     Tresind - Nassima Royal Hotel         Indian  Dubai               4.9\n"
     ]
    }
   ],
   "source": [
    "# Print Recommendation for Restauarant similar to 'Rasoi Ghar'\n",
    "print(get_recommendations(\"Rasoi Ghar\", cos_dis, data_frame))"
   ]
  },
  {
   "cell_type": "code",
   "execution_count": 22,
   "id": "abf6db6b-6745-4b1e-bb32-5ddffef3d143",
   "metadata": {
    "tags": []
   },
   "outputs": [
    {
     "name": "stdout",
     "output_type": "stream",
     "text": [
      "         Restaurant Name       Cuisines      City  Aggregate rating\n",
      "864     Kalsang AMA Cafe           Cafe  Dehradun               4.2\n",
      "854  Y Cafe & Restaurant           Cafe  Dehradun               4.0\n",
      "859           Razzmatazz           Cafe  Dehradun               3.9\n",
      "856      First Gear Cafe  Cafe, Chinese  Dehradun               3.9\n"
     ]
    }
   ],
   "source": [
    "# Print Recommendation for Restauarant similar to 'Y Cafe & Restaurant'\n",
    "print(get_recommendations(\"Y Cafe & Restaurant\", cos_dis, data_frame))"
   ]
  },
  {
   "cell_type": "markdown",
   "id": "d833e5d1-7c32-48fe-906d-643a91bea005",
   "metadata": {},
   "source": [
    "-------------------------------THE END----------------------------------"
   ]
  }
 ],
 "metadata": {
  "kernelspec": {
   "display_name": "Python 3 (ipykernel)",
   "language": "python",
   "name": "python3"
  },
  "language_info": {
   "codemirror_mode": {
    "name": "ipython",
    "version": 3
   },
   "file_extension": ".py",
   "mimetype": "text/x-python",
   "name": "python",
   "nbconvert_exporter": "python",
   "pygments_lexer": "ipython3",
   "version": "3.11.4"
  }
 },
 "nbformat": 4,
 "nbformat_minor": 5
}
